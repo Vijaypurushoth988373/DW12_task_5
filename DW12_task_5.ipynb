{
  "nbformat": 4,
  "nbformat_minor": 0,
  "metadata": {
    "colab": {
      "name": "DW12_task_5",
      "provenance": [],
      "authorship_tag": "ABX9TyPEN1GIYC0p2W58bkHA97gl",
      "include_colab_link": true
    },
    "kernelspec": {
      "name": "python3",
      "display_name": "Python 3"
    },
    "language_info": {
      "name": "python"
    }
  },
  "cells": [
    {
      "cell_type": "markdown",
      "metadata": {
        "id": "view-in-github",
        "colab_type": "text"
      },
      "source": [
        "<a href=\"https://colab.research.google.com/github/Vijaypurushoth988373/DW12_task_5/blob/main/DW12_task_5.ipynb\" target=\"_parent\"><img src=\"https://colab.research.google.com/assets/colab-badge.svg\" alt=\"Open In Colab\"/></a>"
      ]
    },
    {
      "cell_type": "markdown",
      "source": [
        "# Relax Challenge"
      ],
      "metadata": {
        "id": "4J1tp1Itm5W2"
      }
    },
    {
      "cell_type": "markdown",
      "source": [
        "Importing all the Dependencies"
      ],
      "metadata": {
        "id": "Mfifo2yom92N"
      }
    },
    {
      "cell_type": "code",
      "source": [
        "import pandas as pd\n",
        "import numpy as np\n",
        "import scipy.stats\n",
        "\n",
        "import statsmodels.api as sm\n",
        "import json\n",
        "import time\n",
        "import pylab\n",
        "from scipy import stats\n",
        "from datetime import date\n",
        "import datetime as dt\n",
        "\n",
        "import plotly\n",
        "import plotly.offline as py\n",
        "import plotly.graph_objs as go\n",
        "py.init_notebook_mode(connected=True)\n",
        "\n",
        "from IPython.display import display, Math, Latex\n",
        "\n",
        "import matplotlib.pyplot as plt\n",
        "import seaborn as sns\n",
        "sns.set(style=\"whitegrid\")"
      ],
      "metadata": {
        "colab": {
          "base_uri": "https://localhost:8080/",
          "height": 72
        },
        "id": "iPVEcuvanCM2",
        "outputId": "54ec8a65-ae29-4e84-e2f4-bc04122ed9e6"
      },
      "execution_count": 1,
      "outputs": [
        {
          "output_type": "stream",
          "name": "stderr",
          "text": [
            "/usr/local/lib/python3.7/dist-packages/statsmodels/tools/_testing.py:19: FutureWarning: pandas.util.testing is deprecated. Use the functions in the public API at pandas.testing instead.\n",
            "  import pandas.util.testing as tm\n"
          ]
        },
        {
          "output_type": "display_data",
          "data": {
            "text/html": [
              "        <script type=\"text/javascript\">\n",
              "        window.PlotlyConfig = {MathJaxConfig: 'local'};\n",
              "        if (window.MathJax) {MathJax.Hub.Config({SVG: {font: \"STIX-Web\"}});}\n",
              "        if (typeof require !== 'undefined') {\n",
              "        require.undef(\"plotly\");\n",
              "        requirejs.config({\n",
              "            paths: {\n",
              "                'plotly': ['https://cdn.plot.ly/plotly-2.8.3.min']\n",
              "            }\n",
              "        });\n",
              "        require(['plotly'], function(Plotly) {\n",
              "            window._Plotly = Plotly;\n",
              "        });\n",
              "        }\n",
              "        </script>\n",
              "        "
            ]
          },
          "metadata": {}
        }
      ]
    },
    {
      "cell_type": "markdown",
      "source": [
        "The data is available as two attached CSV files:\n",
        "\n",
        "1. takehome_user_engagement.csv\n",
        "2. takehome_users.csv"
      ],
      "metadata": {
        "id": "mtBwuPBWnI5H"
      }
    },
    {
      "cell_type": "markdown",
      "source": [
        "# The data has the following two tables:\n",
        "\n",
        "**1. User Table**\n",
        "\n",
        "*   ( \"takehome_users\" ) with data on 12,000 users who signed up for the product in the last two years.\n",
        "\n",
        "\n"
      ],
      "metadata": {
        "id": "O-AZE6ivnNZ2"
      }
    },
    {
      "cell_type": "markdown",
      "source": [
        "This table includes:\n",
        "\n",
        "    ● name: the user's name\n",
        "\n",
        "    ● object_id: the user's id\n",
        "\n",
        "    ● email: email address\n",
        "\n",
        "    ● creation_source: how their account was created. "
      ],
      "metadata": {
        "id": "LOSKcB0sngMt"
      }
    },
    {
      "cell_type": "markdown",
      "source": [
        "This takes on one of 5 values:\n",
        "\n",
        "PERSONAL_PROJECTS: invited to join another user's personal workspace\n",
        "\n",
        "GUEST_INVITE: invited to an organization as a guest (limited permissions)\n",
        "ORG_INVITE: invited to an organization (as a full member)\n",
        "SIGNUP: signed up via the website\n",
        "SIGNUP_GOOGLE_AUTH: signed up using Google Authentication (using a Google email account for their login id)\n",
        "\n",
        "    a. creation_time: when they created their account\n",
        "\n",
        "    b. last_session_creation_time: unix timestamp of last login\n",
        "\n",
        "    c. opted_in_to_mailing_list: whether they have opted into receiving marketing emails\n",
        "\n",
        "    d. enabled_for_marketing_drip: whether they are on the regular marketing email drip\n",
        "\n",
        "    e. org_id: the organization (group of users) they belong to\n",
        "\n",
        "    f. invited_by_user_id: which user invited them to join (if applicable)."
      ],
      "metadata": {
        "id": "JmCqL7UNnnqm"
      }
    },
    {
      "cell_type": "code",
      "source": [
        "takehome_users = pd.read_csv('takehome_users.csv',encoding='ISO-8859-1')\n",
        "takehome_users.head()"
      ],
      "metadata": {
        "colab": {
          "base_uri": "https://localhost:8080/",
          "height": 357
        },
        "id": "FtqFrBBJnu7d",
        "outputId": "843af4c7-5260-4913-e124-6c046df57401"
      },
      "execution_count": 2,
      "outputs": [
        {
          "output_type": "execute_result",
          "data": {
            "text/plain": [
              "   object_id        creation_time               name  \\\n",
              "0          1  2014-04-22 03:53:30     Clausen August   \n",
              "1          2  2013-11-15 03:45:04      Poole Matthew   \n",
              "2          3  2013-03-19 23:14:52  Bottrill Mitchell   \n",
              "3          4  2013-05-21 08:09:28    Clausen Nicklas   \n",
              "4          5  2013-01-17 10:14:20          Raw Grace   \n",
              "\n",
              "                        email creation_source  last_session_creation_time  \\\n",
              "0    AugustCClausen@yahoo.com    GUEST_INVITE                1.398139e+09   \n",
              "1      MatthewPoole@gustr.com      ORG_INVITE                1.396238e+09   \n",
              "2  MitchellBottrill@gustr.com      ORG_INVITE                1.363735e+09   \n",
              "3   NicklasSClausen@yahoo.com    GUEST_INVITE                1.369210e+09   \n",
              "4          GraceRaw@yahoo.com    GUEST_INVITE                1.358850e+09   \n",
              "\n",
              "   opted_in_to_mailing_list  enabled_for_marketing_drip  org_id  \\\n",
              "0                         1                           0      11   \n",
              "1                         0                           0       1   \n",
              "2                         0                           0      94   \n",
              "3                         0                           0       1   \n",
              "4                         0                           0     193   \n",
              "\n",
              "   invited_by_user_id  \n",
              "0             10803.0  \n",
              "1               316.0  \n",
              "2              1525.0  \n",
              "3              5151.0  \n",
              "4              5240.0  "
            ],
            "text/html": [
              "\n",
              "  <div id=\"df-86fef1c9-2d23-4ac9-abe9-71bd5e6eb536\">\n",
              "    <div class=\"colab-df-container\">\n",
              "      <div>\n",
              "<style scoped>\n",
              "    .dataframe tbody tr th:only-of-type {\n",
              "        vertical-align: middle;\n",
              "    }\n",
              "\n",
              "    .dataframe tbody tr th {\n",
              "        vertical-align: top;\n",
              "    }\n",
              "\n",
              "    .dataframe thead th {\n",
              "        text-align: right;\n",
              "    }\n",
              "</style>\n",
              "<table border=\"1\" class=\"dataframe\">\n",
              "  <thead>\n",
              "    <tr style=\"text-align: right;\">\n",
              "      <th></th>\n",
              "      <th>object_id</th>\n",
              "      <th>creation_time</th>\n",
              "      <th>name</th>\n",
              "      <th>email</th>\n",
              "      <th>creation_source</th>\n",
              "      <th>last_session_creation_time</th>\n",
              "      <th>opted_in_to_mailing_list</th>\n",
              "      <th>enabled_for_marketing_drip</th>\n",
              "      <th>org_id</th>\n",
              "      <th>invited_by_user_id</th>\n",
              "    </tr>\n",
              "  </thead>\n",
              "  <tbody>\n",
              "    <tr>\n",
              "      <th>0</th>\n",
              "      <td>1</td>\n",
              "      <td>2014-04-22 03:53:30</td>\n",
              "      <td>Clausen August</td>\n",
              "      <td>AugustCClausen@yahoo.com</td>\n",
              "      <td>GUEST_INVITE</td>\n",
              "      <td>1.398139e+09</td>\n",
              "      <td>1</td>\n",
              "      <td>0</td>\n",
              "      <td>11</td>\n",
              "      <td>10803.0</td>\n",
              "    </tr>\n",
              "    <tr>\n",
              "      <th>1</th>\n",
              "      <td>2</td>\n",
              "      <td>2013-11-15 03:45:04</td>\n",
              "      <td>Poole Matthew</td>\n",
              "      <td>MatthewPoole@gustr.com</td>\n",
              "      <td>ORG_INVITE</td>\n",
              "      <td>1.396238e+09</td>\n",
              "      <td>0</td>\n",
              "      <td>0</td>\n",
              "      <td>1</td>\n",
              "      <td>316.0</td>\n",
              "    </tr>\n",
              "    <tr>\n",
              "      <th>2</th>\n",
              "      <td>3</td>\n",
              "      <td>2013-03-19 23:14:52</td>\n",
              "      <td>Bottrill Mitchell</td>\n",
              "      <td>MitchellBottrill@gustr.com</td>\n",
              "      <td>ORG_INVITE</td>\n",
              "      <td>1.363735e+09</td>\n",
              "      <td>0</td>\n",
              "      <td>0</td>\n",
              "      <td>94</td>\n",
              "      <td>1525.0</td>\n",
              "    </tr>\n",
              "    <tr>\n",
              "      <th>3</th>\n",
              "      <td>4</td>\n",
              "      <td>2013-05-21 08:09:28</td>\n",
              "      <td>Clausen Nicklas</td>\n",
              "      <td>NicklasSClausen@yahoo.com</td>\n",
              "      <td>GUEST_INVITE</td>\n",
              "      <td>1.369210e+09</td>\n",
              "      <td>0</td>\n",
              "      <td>0</td>\n",
              "      <td>1</td>\n",
              "      <td>5151.0</td>\n",
              "    </tr>\n",
              "    <tr>\n",
              "      <th>4</th>\n",
              "      <td>5</td>\n",
              "      <td>2013-01-17 10:14:20</td>\n",
              "      <td>Raw Grace</td>\n",
              "      <td>GraceRaw@yahoo.com</td>\n",
              "      <td>GUEST_INVITE</td>\n",
              "      <td>1.358850e+09</td>\n",
              "      <td>0</td>\n",
              "      <td>0</td>\n",
              "      <td>193</td>\n",
              "      <td>5240.0</td>\n",
              "    </tr>\n",
              "  </tbody>\n",
              "</table>\n",
              "</div>\n",
              "      <button class=\"colab-df-convert\" onclick=\"convertToInteractive('df-86fef1c9-2d23-4ac9-abe9-71bd5e6eb536')\"\n",
              "              title=\"Convert this dataframe to an interactive table.\"\n",
              "              style=\"display:none;\">\n",
              "        \n",
              "  <svg xmlns=\"http://www.w3.org/2000/svg\" height=\"24px\"viewBox=\"0 0 24 24\"\n",
              "       width=\"24px\">\n",
              "    <path d=\"M0 0h24v24H0V0z\" fill=\"none\"/>\n",
              "    <path d=\"M18.56 5.44l.94 2.06.94-2.06 2.06-.94-2.06-.94-.94-2.06-.94 2.06-2.06.94zm-11 1L8.5 8.5l.94-2.06 2.06-.94-2.06-.94L8.5 2.5l-.94 2.06-2.06.94zm10 10l.94 2.06.94-2.06 2.06-.94-2.06-.94-.94-2.06-.94 2.06-2.06.94z\"/><path d=\"M17.41 7.96l-1.37-1.37c-.4-.4-.92-.59-1.43-.59-.52 0-1.04.2-1.43.59L10.3 9.45l-7.72 7.72c-.78.78-.78 2.05 0 2.83L4 21.41c.39.39.9.59 1.41.59.51 0 1.02-.2 1.41-.59l7.78-7.78 2.81-2.81c.8-.78.8-2.07 0-2.86zM5.41 20L4 18.59l7.72-7.72 1.47 1.35L5.41 20z\"/>\n",
              "  </svg>\n",
              "      </button>\n",
              "      \n",
              "  <style>\n",
              "    .colab-df-container {\n",
              "      display:flex;\n",
              "      flex-wrap:wrap;\n",
              "      gap: 12px;\n",
              "    }\n",
              "\n",
              "    .colab-df-convert {\n",
              "      background-color: #E8F0FE;\n",
              "      border: none;\n",
              "      border-radius: 50%;\n",
              "      cursor: pointer;\n",
              "      display: none;\n",
              "      fill: #1967D2;\n",
              "      height: 32px;\n",
              "      padding: 0 0 0 0;\n",
              "      width: 32px;\n",
              "    }\n",
              "\n",
              "    .colab-df-convert:hover {\n",
              "      background-color: #E2EBFA;\n",
              "      box-shadow: 0px 1px 2px rgba(60, 64, 67, 0.3), 0px 1px 3px 1px rgba(60, 64, 67, 0.15);\n",
              "      fill: #174EA6;\n",
              "    }\n",
              "\n",
              "    [theme=dark] .colab-df-convert {\n",
              "      background-color: #3B4455;\n",
              "      fill: #D2E3FC;\n",
              "    }\n",
              "\n",
              "    [theme=dark] .colab-df-convert:hover {\n",
              "      background-color: #434B5C;\n",
              "      box-shadow: 0px 1px 3px 1px rgba(0, 0, 0, 0.15);\n",
              "      filter: drop-shadow(0px 1px 2px rgba(0, 0, 0, 0.3));\n",
              "      fill: #FFFFFF;\n",
              "    }\n",
              "  </style>\n",
              "\n",
              "      <script>\n",
              "        const buttonEl =\n",
              "          document.querySelector('#df-86fef1c9-2d23-4ac9-abe9-71bd5e6eb536 button.colab-df-convert');\n",
              "        buttonEl.style.display =\n",
              "          google.colab.kernel.accessAllowed ? 'block' : 'none';\n",
              "\n",
              "        async function convertToInteractive(key) {\n",
              "          const element = document.querySelector('#df-86fef1c9-2d23-4ac9-abe9-71bd5e6eb536');\n",
              "          const dataTable =\n",
              "            await google.colab.kernel.invokeFunction('convertToInteractive',\n",
              "                                                     [key], {});\n",
              "          if (!dataTable) return;\n",
              "\n",
              "          const docLinkHtml = 'Like what you see? Visit the ' +\n",
              "            '<a target=\"_blank\" href=https://colab.research.google.com/notebooks/data_table.ipynb>data table notebook</a>'\n",
              "            + ' to learn more about interactive tables.';\n",
              "          element.innerHTML = '';\n",
              "          dataTable['output_type'] = 'display_data';\n",
              "          await google.colab.output.renderOutput(dataTable, element);\n",
              "          const docLink = document.createElement('div');\n",
              "          docLink.innerHTML = docLinkHtml;\n",
              "          element.appendChild(docLink);\n",
              "        }\n",
              "      </script>\n",
              "    </div>\n",
              "  </div>\n",
              "  "
            ]
          },
          "metadata": {},
          "execution_count": 2
        }
      ]
    },
    {
      "cell_type": "code",
      "source": [
        "takehome_users.info()"
      ],
      "metadata": {
        "colab": {
          "base_uri": "https://localhost:8080/"
        },
        "id": "W6nl1kAEnw7-",
        "outputId": "c5cdb3c0-bf31-4c2d-c644-03d9cedb7374"
      },
      "execution_count": 3,
      "outputs": [
        {
          "output_type": "stream",
          "name": "stdout",
          "text": [
            "<class 'pandas.core.frame.DataFrame'>\n",
            "RangeIndex: 12000 entries, 0 to 11999\n",
            "Data columns (total 10 columns):\n",
            " #   Column                      Non-Null Count  Dtype  \n",
            "---  ------                      --------------  -----  \n",
            " 0   object_id                   12000 non-null  int64  \n",
            " 1   creation_time               12000 non-null  object \n",
            " 2   name                        12000 non-null  object \n",
            " 3   email                       12000 non-null  object \n",
            " 4   creation_source             12000 non-null  object \n",
            " 5   last_session_creation_time  8823 non-null   float64\n",
            " 6   opted_in_to_mailing_list    12000 non-null  int64  \n",
            " 7   enabled_for_marketing_drip  12000 non-null  int64  \n",
            " 8   org_id                      12000 non-null  int64  \n",
            " 9   invited_by_user_id          6417 non-null   float64\n",
            "dtypes: float64(2), int64(4), object(4)\n",
            "memory usage: 937.6+ KB\n"
          ]
        }
      ]
    },
    {
      "cell_type": "markdown",
      "source": [
        "# 2. Usage summary table\n",
        "\n",
        "1. ( \"takehome_user_engagement\" ) that has a row for each day that a user logged into the product."
      ],
      "metadata": {
        "id": "HmCVtFBmn0ad"
      }
    },
    {
      "cell_type": "code",
      "source": [
        "takehome_user_engagement=pd.read_csv('takehome_user_engagement.csv')\n",
        "takehome_user_engagement.head()"
      ],
      "metadata": {
        "colab": {
          "base_uri": "https://localhost:8080/",
          "height": 206
        },
        "id": "Duz54DpRn5q1",
        "outputId": "e2055dba-96f6-45dc-e082-317f21cd239b"
      },
      "execution_count": 4,
      "outputs": [
        {
          "output_type": "execute_result",
          "data": {
            "text/plain": [
              "            time_stamp  user_id  visited\n",
              "0  2014-04-22 03:53:30        1        1\n",
              "1  2013-11-15 03:45:04        2        1\n",
              "2  2013-11-29 03:45:04        2        1\n",
              "3  2013-12-09 03:45:04        2        1\n",
              "4  2013-12-25 03:45:04        2        1"
            ],
            "text/html": [
              "\n",
              "  <div id=\"df-71621d29-dea8-42f0-8105-48a82536511a\">\n",
              "    <div class=\"colab-df-container\">\n",
              "      <div>\n",
              "<style scoped>\n",
              "    .dataframe tbody tr th:only-of-type {\n",
              "        vertical-align: middle;\n",
              "    }\n",
              "\n",
              "    .dataframe tbody tr th {\n",
              "        vertical-align: top;\n",
              "    }\n",
              "\n",
              "    .dataframe thead th {\n",
              "        text-align: right;\n",
              "    }\n",
              "</style>\n",
              "<table border=\"1\" class=\"dataframe\">\n",
              "  <thead>\n",
              "    <tr style=\"text-align: right;\">\n",
              "      <th></th>\n",
              "      <th>time_stamp</th>\n",
              "      <th>user_id</th>\n",
              "      <th>visited</th>\n",
              "    </tr>\n",
              "  </thead>\n",
              "  <tbody>\n",
              "    <tr>\n",
              "      <th>0</th>\n",
              "      <td>2014-04-22 03:53:30</td>\n",
              "      <td>1</td>\n",
              "      <td>1</td>\n",
              "    </tr>\n",
              "    <tr>\n",
              "      <th>1</th>\n",
              "      <td>2013-11-15 03:45:04</td>\n",
              "      <td>2</td>\n",
              "      <td>1</td>\n",
              "    </tr>\n",
              "    <tr>\n",
              "      <th>2</th>\n",
              "      <td>2013-11-29 03:45:04</td>\n",
              "      <td>2</td>\n",
              "      <td>1</td>\n",
              "    </tr>\n",
              "    <tr>\n",
              "      <th>3</th>\n",
              "      <td>2013-12-09 03:45:04</td>\n",
              "      <td>2</td>\n",
              "      <td>1</td>\n",
              "    </tr>\n",
              "    <tr>\n",
              "      <th>4</th>\n",
              "      <td>2013-12-25 03:45:04</td>\n",
              "      <td>2</td>\n",
              "      <td>1</td>\n",
              "    </tr>\n",
              "  </tbody>\n",
              "</table>\n",
              "</div>\n",
              "      <button class=\"colab-df-convert\" onclick=\"convertToInteractive('df-71621d29-dea8-42f0-8105-48a82536511a')\"\n",
              "              title=\"Convert this dataframe to an interactive table.\"\n",
              "              style=\"display:none;\">\n",
              "        \n",
              "  <svg xmlns=\"http://www.w3.org/2000/svg\" height=\"24px\"viewBox=\"0 0 24 24\"\n",
              "       width=\"24px\">\n",
              "    <path d=\"M0 0h24v24H0V0z\" fill=\"none\"/>\n",
              "    <path d=\"M18.56 5.44l.94 2.06.94-2.06 2.06-.94-2.06-.94-.94-2.06-.94 2.06-2.06.94zm-11 1L8.5 8.5l.94-2.06 2.06-.94-2.06-.94L8.5 2.5l-.94 2.06-2.06.94zm10 10l.94 2.06.94-2.06 2.06-.94-2.06-.94-.94-2.06-.94 2.06-2.06.94z\"/><path d=\"M17.41 7.96l-1.37-1.37c-.4-.4-.92-.59-1.43-.59-.52 0-1.04.2-1.43.59L10.3 9.45l-7.72 7.72c-.78.78-.78 2.05 0 2.83L4 21.41c.39.39.9.59 1.41.59.51 0 1.02-.2 1.41-.59l7.78-7.78 2.81-2.81c.8-.78.8-2.07 0-2.86zM5.41 20L4 18.59l7.72-7.72 1.47 1.35L5.41 20z\"/>\n",
              "  </svg>\n",
              "      </button>\n",
              "      \n",
              "  <style>\n",
              "    .colab-df-container {\n",
              "      display:flex;\n",
              "      flex-wrap:wrap;\n",
              "      gap: 12px;\n",
              "    }\n",
              "\n",
              "    .colab-df-convert {\n",
              "      background-color: #E8F0FE;\n",
              "      border: none;\n",
              "      border-radius: 50%;\n",
              "      cursor: pointer;\n",
              "      display: none;\n",
              "      fill: #1967D2;\n",
              "      height: 32px;\n",
              "      padding: 0 0 0 0;\n",
              "      width: 32px;\n",
              "    }\n",
              "\n",
              "    .colab-df-convert:hover {\n",
              "      background-color: #E2EBFA;\n",
              "      box-shadow: 0px 1px 2px rgba(60, 64, 67, 0.3), 0px 1px 3px 1px rgba(60, 64, 67, 0.15);\n",
              "      fill: #174EA6;\n",
              "    }\n",
              "\n",
              "    [theme=dark] .colab-df-convert {\n",
              "      background-color: #3B4455;\n",
              "      fill: #D2E3FC;\n",
              "    }\n",
              "\n",
              "    [theme=dark] .colab-df-convert:hover {\n",
              "      background-color: #434B5C;\n",
              "      box-shadow: 0px 1px 3px 1px rgba(0, 0, 0, 0.15);\n",
              "      filter: drop-shadow(0px 1px 2px rgba(0, 0, 0, 0.3));\n",
              "      fill: #FFFFFF;\n",
              "    }\n",
              "  </style>\n",
              "\n",
              "      <script>\n",
              "        const buttonEl =\n",
              "          document.querySelector('#df-71621d29-dea8-42f0-8105-48a82536511a button.colab-df-convert');\n",
              "        buttonEl.style.display =\n",
              "          google.colab.kernel.accessAllowed ? 'block' : 'none';\n",
              "\n",
              "        async function convertToInteractive(key) {\n",
              "          const element = document.querySelector('#df-71621d29-dea8-42f0-8105-48a82536511a');\n",
              "          const dataTable =\n",
              "            await google.colab.kernel.invokeFunction('convertToInteractive',\n",
              "                                                     [key], {});\n",
              "          if (!dataTable) return;\n",
              "\n",
              "          const docLinkHtml = 'Like what you see? Visit the ' +\n",
              "            '<a target=\"_blank\" href=https://colab.research.google.com/notebooks/data_table.ipynb>data table notebook</a>'\n",
              "            + ' to learn more about interactive tables.';\n",
              "          element.innerHTML = '';\n",
              "          dataTable['output_type'] = 'display_data';\n",
              "          await google.colab.output.renderOutput(dataTable, element);\n",
              "          const docLink = document.createElement('div');\n",
              "          docLink.innerHTML = docLinkHtml;\n",
              "          element.appendChild(docLink);\n",
              "        }\n",
              "      </script>\n",
              "    </div>\n",
              "  </div>\n",
              "  "
            ]
          },
          "metadata": {},
          "execution_count": 4
        }
      ]
    },
    {
      "cell_type": "code",
      "source": [
        "takehome_user_engagement.info()"
      ],
      "metadata": {
        "colab": {
          "base_uri": "https://localhost:8080/"
        },
        "id": "_chetaecpebl",
        "outputId": "f72fdab7-b29e-48bc-804e-6dc2477bddb7"
      },
      "execution_count": 5,
      "outputs": [
        {
          "output_type": "stream",
          "name": "stdout",
          "text": [
            "<class 'pandas.core.frame.DataFrame'>\n",
            "RangeIndex: 207917 entries, 0 to 207916\n",
            "Data columns (total 3 columns):\n",
            " #   Column      Non-Null Count   Dtype \n",
            "---  ------      --------------   ----- \n",
            " 0   time_stamp  207917 non-null  object\n",
            " 1   user_id     207917 non-null  int64 \n",
            " 2   visited     207917 non-null  int64 \n",
            "dtypes: int64(2), object(1)\n",
            "memory usage: 4.8+ MB\n"
          ]
        }
      ]
    },
    {
      "cell_type": "markdown",
      "source": [
        "# Project\n",
        "\n",
        "Defining an \"adopted user\" as a user who has logged into the product on three separate days in at least one seven day period, identify which factors predict future user adoption.\n",
        "\n",
        "We suggest spending 1-2 hours on this, but you're welcome to spend more or less.\n",
        "\n",
        "1. Please send us a brief write-up of your findings (the more concise, the better no more than one page), along with any summary tables, graphs, code, or queries that can help us understand your approach.\n",
        "\n",
        "2. Please note any factors you considered or investigation you did, even if they did not pan out. Feel free to identify any further research or data you think would be valuable.\n",
        "\n",
        "**Thoughts:**\n",
        "\n",
        "**takehome_users:**\n",
        "\n",
        "Need to make sure the date/time variables are coded as such. One of the column titles is inconsistent with the data description. Certainly not all of the data is going to be useful, certainly not the personal details of the users.\n",
        "\n",
        "**takehome_user_engagement:**\n",
        "\n",
        "The time stamp is going to need to be changed\n",
        "\n",
        "1. I'm already thinking that the data are going to need to be merged between the user_engagement dataset and the user dataset.\n",
        "2. Since the question mentioned seven day units I will need to code weekly units."
      ],
      "metadata": {
        "id": "5V5zMvIuqOxo"
      }
    },
    {
      "cell_type": "markdown",
      "source": [
        "# Data Cleaning/Prep"
      ],
      "metadata": {
        "id": "OUJl-yiLqenG"
      }
    },
    {
      "cell_type": "code",
      "source": [
        "#Functions I commonly use to deal with date/time values\n",
        "def get_date_int(df, column):\n",
        "    '''\n",
        "    This handy function parses year,month,week,day.\n",
        "    '''\n",
        "    year = df[column].dt.year\n",
        "    month = df[column].dt.month\n",
        "    day = df[column].dt.day\n",
        "    return year, month, day\n",
        "\n",
        "def get_week(x): return x.isocalendar()\n",
        "\n",
        "def get_iso_date_int(df,column):\n",
        "    '''\n",
        "    With time coded as iso (year,week,day) this seperates those time periods.\n",
        "    '''\n",
        "    temp_df=pd.DataFrame(df[column].tolist(), index=df.index)\n",
        "    year,week,day=temp_df[0],temp_df[1],temp_df[2]\n",
        "    return year,week,day"
      ],
      "metadata": {
        "id": "J5ndw3KgqhIV"
      },
      "execution_count": 6,
      "outputs": []
    },
    {
      "cell_type": "code",
      "source": [
        "takehome_users = pd.read_csv('takehome_users.csv',encoding='ISO-8859-1')\n",
        "#code creation_time,last_session_time as date/time\n",
        "takehome_users.creation_time = pd.to_datetime(takehome_users['creation_time'])\n",
        "takehome_users.last_session_creation_time = pd.to_datetime(takehome_users['last_session_creation_time'])\n",
        "#change column heading\n",
        "takehome_users['user_id'] = takehome_users['object_id']\n",
        "#drop original column\n",
        "takehome_users.drop('object_id', axis=1, inplace=True)\n",
        "#drop private information\n",
        "takehome_users.drop(['name', 'email'], axis=1, inplace=True)\n",
        "\n",
        "takehome_users.head()"
      ],
      "metadata": {
        "colab": {
          "base_uri": "https://localhost:8080/",
          "height": 206
        },
        "id": "T-62cxTqrU8N",
        "outputId": "043374c4-79f0-4f3a-ee35-663aaad1c2d6"
      },
      "execution_count": 7,
      "outputs": [
        {
          "output_type": "execute_result",
          "data": {
            "text/plain": [
              "        creation_time creation_source    last_session_creation_time  \\\n",
              "0 2014-04-22 03:53:30    GUEST_INVITE 1970-01-01 00:00:01.398138810   \n",
              "1 2013-11-15 03:45:04      ORG_INVITE 1970-01-01 00:00:01.396237504   \n",
              "2 2013-03-19 23:14:52      ORG_INVITE 1970-01-01 00:00:01.363734892   \n",
              "3 2013-05-21 08:09:28    GUEST_INVITE 1970-01-01 00:00:01.369210168   \n",
              "4 2013-01-17 10:14:20    GUEST_INVITE 1970-01-01 00:00:01.358849660   \n",
              "\n",
              "   opted_in_to_mailing_list  enabled_for_marketing_drip  org_id  \\\n",
              "0                         1                           0      11   \n",
              "1                         0                           0       1   \n",
              "2                         0                           0      94   \n",
              "3                         0                           0       1   \n",
              "4                         0                           0     193   \n",
              "\n",
              "   invited_by_user_id  user_id  \n",
              "0             10803.0        1  \n",
              "1               316.0        2  \n",
              "2              1525.0        3  \n",
              "3              5151.0        4  \n",
              "4              5240.0        5  "
            ],
            "text/html": [
              "\n",
              "  <div id=\"df-77b41e9e-d3d8-4b10-91a0-de4aa50becf1\">\n",
              "    <div class=\"colab-df-container\">\n",
              "      <div>\n",
              "<style scoped>\n",
              "    .dataframe tbody tr th:only-of-type {\n",
              "        vertical-align: middle;\n",
              "    }\n",
              "\n",
              "    .dataframe tbody tr th {\n",
              "        vertical-align: top;\n",
              "    }\n",
              "\n",
              "    .dataframe thead th {\n",
              "        text-align: right;\n",
              "    }\n",
              "</style>\n",
              "<table border=\"1\" class=\"dataframe\">\n",
              "  <thead>\n",
              "    <tr style=\"text-align: right;\">\n",
              "      <th></th>\n",
              "      <th>creation_time</th>\n",
              "      <th>creation_source</th>\n",
              "      <th>last_session_creation_time</th>\n",
              "      <th>opted_in_to_mailing_list</th>\n",
              "      <th>enabled_for_marketing_drip</th>\n",
              "      <th>org_id</th>\n",
              "      <th>invited_by_user_id</th>\n",
              "      <th>user_id</th>\n",
              "    </tr>\n",
              "  </thead>\n",
              "  <tbody>\n",
              "    <tr>\n",
              "      <th>0</th>\n",
              "      <td>2014-04-22 03:53:30</td>\n",
              "      <td>GUEST_INVITE</td>\n",
              "      <td>1970-01-01 00:00:01.398138810</td>\n",
              "      <td>1</td>\n",
              "      <td>0</td>\n",
              "      <td>11</td>\n",
              "      <td>10803.0</td>\n",
              "      <td>1</td>\n",
              "    </tr>\n",
              "    <tr>\n",
              "      <th>1</th>\n",
              "      <td>2013-11-15 03:45:04</td>\n",
              "      <td>ORG_INVITE</td>\n",
              "      <td>1970-01-01 00:00:01.396237504</td>\n",
              "      <td>0</td>\n",
              "      <td>0</td>\n",
              "      <td>1</td>\n",
              "      <td>316.0</td>\n",
              "      <td>2</td>\n",
              "    </tr>\n",
              "    <tr>\n",
              "      <th>2</th>\n",
              "      <td>2013-03-19 23:14:52</td>\n",
              "      <td>ORG_INVITE</td>\n",
              "      <td>1970-01-01 00:00:01.363734892</td>\n",
              "      <td>0</td>\n",
              "      <td>0</td>\n",
              "      <td>94</td>\n",
              "      <td>1525.0</td>\n",
              "      <td>3</td>\n",
              "    </tr>\n",
              "    <tr>\n",
              "      <th>3</th>\n",
              "      <td>2013-05-21 08:09:28</td>\n",
              "      <td>GUEST_INVITE</td>\n",
              "      <td>1970-01-01 00:00:01.369210168</td>\n",
              "      <td>0</td>\n",
              "      <td>0</td>\n",
              "      <td>1</td>\n",
              "      <td>5151.0</td>\n",
              "      <td>4</td>\n",
              "    </tr>\n",
              "    <tr>\n",
              "      <th>4</th>\n",
              "      <td>2013-01-17 10:14:20</td>\n",
              "      <td>GUEST_INVITE</td>\n",
              "      <td>1970-01-01 00:00:01.358849660</td>\n",
              "      <td>0</td>\n",
              "      <td>0</td>\n",
              "      <td>193</td>\n",
              "      <td>5240.0</td>\n",
              "      <td>5</td>\n",
              "    </tr>\n",
              "  </tbody>\n",
              "</table>\n",
              "</div>\n",
              "      <button class=\"colab-df-convert\" onclick=\"convertToInteractive('df-77b41e9e-d3d8-4b10-91a0-de4aa50becf1')\"\n",
              "              title=\"Convert this dataframe to an interactive table.\"\n",
              "              style=\"display:none;\">\n",
              "        \n",
              "  <svg xmlns=\"http://www.w3.org/2000/svg\" height=\"24px\"viewBox=\"0 0 24 24\"\n",
              "       width=\"24px\">\n",
              "    <path d=\"M0 0h24v24H0V0z\" fill=\"none\"/>\n",
              "    <path d=\"M18.56 5.44l.94 2.06.94-2.06 2.06-.94-2.06-.94-.94-2.06-.94 2.06-2.06.94zm-11 1L8.5 8.5l.94-2.06 2.06-.94-2.06-.94L8.5 2.5l-.94 2.06-2.06.94zm10 10l.94 2.06.94-2.06 2.06-.94-2.06-.94-.94-2.06-.94 2.06-2.06.94z\"/><path d=\"M17.41 7.96l-1.37-1.37c-.4-.4-.92-.59-1.43-.59-.52 0-1.04.2-1.43.59L10.3 9.45l-7.72 7.72c-.78.78-.78 2.05 0 2.83L4 21.41c.39.39.9.59 1.41.59.51 0 1.02-.2 1.41-.59l7.78-7.78 2.81-2.81c.8-.78.8-2.07 0-2.86zM5.41 20L4 18.59l7.72-7.72 1.47 1.35L5.41 20z\"/>\n",
              "  </svg>\n",
              "      </button>\n",
              "      \n",
              "  <style>\n",
              "    .colab-df-container {\n",
              "      display:flex;\n",
              "      flex-wrap:wrap;\n",
              "      gap: 12px;\n",
              "    }\n",
              "\n",
              "    .colab-df-convert {\n",
              "      background-color: #E8F0FE;\n",
              "      border: none;\n",
              "      border-radius: 50%;\n",
              "      cursor: pointer;\n",
              "      display: none;\n",
              "      fill: #1967D2;\n",
              "      height: 32px;\n",
              "      padding: 0 0 0 0;\n",
              "      width: 32px;\n",
              "    }\n",
              "\n",
              "    .colab-df-convert:hover {\n",
              "      background-color: #E2EBFA;\n",
              "      box-shadow: 0px 1px 2px rgba(60, 64, 67, 0.3), 0px 1px 3px 1px rgba(60, 64, 67, 0.15);\n",
              "      fill: #174EA6;\n",
              "    }\n",
              "\n",
              "    [theme=dark] .colab-df-convert {\n",
              "      background-color: #3B4455;\n",
              "      fill: #D2E3FC;\n",
              "    }\n",
              "\n",
              "    [theme=dark] .colab-df-convert:hover {\n",
              "      background-color: #434B5C;\n",
              "      box-shadow: 0px 1px 3px 1px rgba(0, 0, 0, 0.15);\n",
              "      filter: drop-shadow(0px 1px 2px rgba(0, 0, 0, 0.3));\n",
              "      fill: #FFFFFF;\n",
              "    }\n",
              "  </style>\n",
              "\n",
              "      <script>\n",
              "        const buttonEl =\n",
              "          document.querySelector('#df-77b41e9e-d3d8-4b10-91a0-de4aa50becf1 button.colab-df-convert');\n",
              "        buttonEl.style.display =\n",
              "          google.colab.kernel.accessAllowed ? 'block' : 'none';\n",
              "\n",
              "        async function convertToInteractive(key) {\n",
              "          const element = document.querySelector('#df-77b41e9e-d3d8-4b10-91a0-de4aa50becf1');\n",
              "          const dataTable =\n",
              "            await google.colab.kernel.invokeFunction('convertToInteractive',\n",
              "                                                     [key], {});\n",
              "          if (!dataTable) return;\n",
              "\n",
              "          const docLinkHtml = 'Like what you see? Visit the ' +\n",
              "            '<a target=\"_blank\" href=https://colab.research.google.com/notebooks/data_table.ipynb>data table notebook</a>'\n",
              "            + ' to learn more about interactive tables.';\n",
              "          element.innerHTML = '';\n",
              "          dataTable['output_type'] = 'display_data';\n",
              "          await google.colab.output.renderOutput(dataTable, element);\n",
              "          const docLink = document.createElement('div');\n",
              "          docLink.innerHTML = docLinkHtml;\n",
              "          element.appendChild(docLink);\n",
              "        }\n",
              "      </script>\n",
              "    </div>\n",
              "  </div>\n",
              "  "
            ]
          },
          "metadata": {},
          "execution_count": 7
        }
      ]
    },
    {
      "cell_type": "code",
      "source": [
        "takehome_users.info()"
      ],
      "metadata": {
        "colab": {
          "base_uri": "https://localhost:8080/"
        },
        "id": "odKgVui9rWr2",
        "outputId": "672c76cd-ba8a-43aa-f3dc-828303ebe507"
      },
      "execution_count": 9,
      "outputs": [
        {
          "output_type": "stream",
          "name": "stdout",
          "text": [
            "<class 'pandas.core.frame.DataFrame'>\n",
            "RangeIndex: 12000 entries, 0 to 11999\n",
            "Data columns (total 8 columns):\n",
            " #   Column                      Non-Null Count  Dtype         \n",
            "---  ------                      --------------  -----         \n",
            " 0   creation_time               12000 non-null  datetime64[ns]\n",
            " 1   creation_source             12000 non-null  object        \n",
            " 2   last_session_creation_time  8823 non-null   datetime64[ns]\n",
            " 3   opted_in_to_mailing_list    12000 non-null  int64         \n",
            " 4   enabled_for_marketing_drip  12000 non-null  int64         \n",
            " 5   org_id                      12000 non-null  int64         \n",
            " 6   invited_by_user_id          6417 non-null   float64       \n",
            " 7   user_id                     12000 non-null  int64         \n",
            "dtypes: datetime64[ns](2), float64(1), int64(4), object(1)\n",
            "memory usage: 750.1+ KB\n"
          ]
        }
      ]
    },
    {
      "cell_type": "code",
      "source": [
        "#make user engagement time_stamp into date/time\n",
        "takehome_user_engagement['time_stamp'] = pd.to_datetime(takehome_user_engagement['time_stamp'])\n",
        "#Make a weekly unit for time stamp\n",
        "takehome_user_engagement['week_time_stamp']=takehome_user_engagement['time_stamp'].apply(get_week)"
      ],
      "metadata": {
        "id": "EyNq_ywCrY3G"
      },
      "execution_count": 11,
      "outputs": []
    },
    {
      "cell_type": "code",
      "source": [
        "#This is useful to know so we know where the start and finish of the trial exists\n",
        "print('First user engagement timestamp:',min(takehome_user_engagement.time_stamp))\n",
        "print('Last user engagement timestamp:',max(takehome_user_engagement.time_stamp))"
      ],
      "metadata": {
        "colab": {
          "base_uri": "https://localhost:8080/"
        },
        "id": "NqrhjU8bridX",
        "outputId": "a09fba15-5bb5-4170-c093-d31ddd764613"
      },
      "execution_count": 12,
      "outputs": [
        {
          "output_type": "stream",
          "name": "stdout",
          "text": [
            "First user engagement timestamp: 2012-05-31 08:20:06\n",
            "Last user engagement timestamp: 2014-06-06 14:58:50\n"
          ]
        }
      ]
    },
    {
      "cell_type": "code",
      "source": [
        "#Create Year,Month,Week,and Day units. To be fair I would be doing this regardless of use,\n",
        "# since I know I will be working with time its useful to have options for working with the data\n",
        "year, month, day=get_date_int(takehome_user_engagement, 'time_stamp')\n",
        "takehome_user_engagement['year'],takehome_user_engagement['month'],takehome_user_engagement['day']=year,month,day\n",
        "takehome_user_engagement['week']=takehome_user_engagement['time_stamp'].dt.week\n",
        "#Make year and week, So if we are dealing with 52 week units then I want year to make it individual unit of time\n",
        "iso_year,iso_week,iso_day=get_iso_date_int(takehome_user_engagement,'week_time_stamp')\n",
        "takehome_user_engagement['year_week']=list(zip(iso_year,iso_week))"
      ],
      "metadata": {
        "colab": {
          "base_uri": "https://localhost:8080/"
        },
        "id": "clWe1rR1rjz_",
        "outputId": "3fea14ec-006c-45fd-8af4-db08eb7f78cc"
      },
      "execution_count": 13,
      "outputs": [
        {
          "output_type": "stream",
          "name": "stderr",
          "text": [
            "/usr/local/lib/python3.7/dist-packages/ipykernel_launcher.py:5: FutureWarning:\n",
            "\n",
            "Series.dt.weekofyear and Series.dt.week have been deprecated.  Please use Series.dt.isocalendar().week instead.\n",
            "\n"
          ]
        }
      ]
    },
    {
      "cell_type": "markdown",
      "source": [
        "Defining an \"adopted user\" as a user who has logged into the product on three separate days in at least one seven day period, identify which factors predict future user adoption.\n",
        "\n",
        "1. After playing with the data and thinking about the problem I decided the easiest time scale to use is the year/week units I created. I minimized the data to values I will need to solve the problem of 'adopted users'."
      ],
      "metadata": {
        "id": "aZa2G88CroTl"
      }
    },
    {
      "cell_type": "code",
      "source": [
        "takehome_user_engagement=takehome_user_engagement.sort_values(['time_stamp','user_id'],ascending=True)\n",
        "takehome_user_engagement=takehome_user_engagement[['user_id','visited','day','year_week']]"
      ],
      "metadata": {
        "id": "90Bfx1UJrtuO"
      },
      "execution_count": 14,
      "outputs": []
    },
    {
      "cell_type": "code",
      "source": [
        "#I tried to do this without using any for loops.... \n",
        "#   - I still think I can but for parsimony I decided just to use a single for loop\n",
        "# What I got is a label dictionary for user_id and adopted_engagement_index which,\n",
        "# I define as the number of logins of user attempts in a week that are,\n",
        "#    - seperate daily events (greater than 3 days).\n",
        "\n",
        "# Label dictionary\n",
        "adopted_user_dict={}\n",
        "#number of year/week units\n",
        "weeks=takehome_user_engagement.year_week\n",
        "#individual user ids\n",
        "user_ids=list(set(takehome_user_engagement['user_id']))\n",
        "#loop over user ids\n",
        "for i in range(len(user_ids)):\n",
        "    user_id=user_ids[i]\n",
        "    #dataframe for specific user that has duplicate records by week\n",
        "    reduced_df=takehome_user_engagement[(takehome_user_engagement['user_id']==user_id)&(weeks.isin(weeks[weeks.duplicated()]))]\n",
        "    #count the number of duplicate 'day' records of weeks if greater than 2 keep\n",
        "    week_counts=reduced_df.year_week.value_counts()[reduced_df.year_week.value_counts()>2]\n",
        "    three_logins=reduced_df[reduced_df.year_week.isin(list(week_counts.index))]\n",
        "    #remove duplicates of 3 day events within week\n",
        "    three_logins=three_logins[~three_logins.duplicated()]\n",
        "    #code user id and number of 3 day events\n",
        "    adopted_user_dict[str(user_id)]=len(three_logins)"
      ],
      "metadata": {
        "id": "IpH7aN-cruWG"
      },
      "execution_count": 15,
      "outputs": []
    },
    {
      "cell_type": "code",
      "source": [
        "#apply the label dictionary to user ids coded to the column (engagement_index)\n",
        "takehome_user_engagement['engagement_index']=takehome_user_engagement['user_id'].apply(lambda x: adopted_user_dict[str(x)])\n",
        "#Code engagement_index as boolean values, which will be the adopted_user records\n",
        "takehome_user_engagement['adopted_user']=0\n",
        "takehome_user_engagement['adopted_user'][takehome_user_engagement['engagement_index']>0]=1"
      ],
      "metadata": {
        "colab": {
          "base_uri": "https://localhost:8080/"
        },
        "id": "0xMxDFWHrxrd",
        "outputId": "f1a6b1aa-9007-41da-aadc-acfef621bce5"
      },
      "execution_count": 16,
      "outputs": [
        {
          "output_type": "stream",
          "name": "stderr",
          "text": [
            "/usr/local/lib/python3.7/dist-packages/ipykernel_launcher.py:5: SettingWithCopyWarning:\n",
            "\n",
            "\n",
            "A value is trying to be set on a copy of a slice from a DataFrame\n",
            "\n",
            "See the caveats in the documentation: https://pandas.pydata.org/pandas-docs/stable/user_guide/indexing.html#returning-a-view-versus-a-copy\n",
            "\n"
          ]
        }
      ]
    },
    {
      "cell_type": "markdown",
      "source": [
        "After coding for 'adopted_users' I am left with 1445 users who have logged in on 3 seperate days within a seven day period."
      ],
      "metadata": {
        "id": "MeLnI2tzsig1"
      }
    },
    {
      "cell_type": "code",
      "source": [
        "adopted_count=takehome_user_engagement[['user_id','adopted_user']][takehome_user_engagement['adopted_user']==1].groupby('user_id').count()\n",
        "print('Number of adopted users:',len(adopted_count))"
      ],
      "metadata": {
        "colab": {
          "base_uri": "https://localhost:8080/"
        },
        "id": "wkxCoe7KsmJO",
        "outputId": "33e1e5cf-d8a1-4e8c-8e7c-e0ad8f5850aa"
      },
      "execution_count": 17,
      "outputs": [
        {
          "output_type": "stream",
          "name": "stdout",
          "text": [
            "Number of adopted users: 1445\n"
          ]
        }
      ]
    },
    {
      "cell_type": "markdown",
      "source": [
        "Number of adopted users: 1445"
      ],
      "metadata": {
        "id": "ZrXR3XQOsoo2"
      }
    },
    {
      "cell_type": "code",
      "source": [
        "#Narrow down the dataset for merging\n",
        "adopted=takehome_user_engagement[['user_id','adopted_user']]\n",
        "#Merge the adopted user info to users dataframe\n",
        "adopted_users = pd.merge(takehome_users, adopted, on='user_id', how='outer')"
      ],
      "metadata": {
        "id": "S6sbCZQFsn39"
      },
      "execution_count": 18,
      "outputs": []
    },
    {
      "cell_type": "markdown",
      "source": [
        "After merging the 'adopted_users' to the larger 'users' dataset I will modify the time units to useful units, once again I am not certain which time units I will need but is a thing I typically do so I have options for different scales of time."
      ],
      "metadata": {
        "id": "wwrhxaQgsrQu"
      }
    },
    {
      "cell_type": "code",
      "source": [
        "creation_year, creation_month, creation_day=get_date_int(adopted_users, 'creation_time')\n",
        "last_session_year, last_session_month, last_session_day=get_date_int(adopted_users, 'last_session_creation_time')\n",
        "adopted_users['creation_year'],adopted_users['creation_month'],adopted_users['creation_day']=creation_year, creation_month, creation_day\n",
        "adopted_users['last_session_year'],adopted_users['last_session_month'],adopted_users['last_session_day']=last_session_year, last_session_month, last_session_day\n",
        "adopted_users.drop(['creation_time', 'last_session_creation_time', 'user_id'], axis=1, inplace=True)"
      ],
      "metadata": {
        "id": "ycGmchrLsqmO"
      },
      "execution_count": 19,
      "outputs": []
    },
    {
      "cell_type": "markdown",
      "source": [
        "**Model Prep**\n",
        "\n",
        "*Fill in the missing values with something (zero) I think if I had more time I would spend it looking at what would be the best imputation method (mode,median,mean, or zero fill)*"
      ],
      "metadata": {
        "id": "tqm8LnERsuct"
      }
    },
    {
      "cell_type": "code",
      "source": [
        "adopted_users.last_session_day.fillna(0, inplace=True)\n",
        "adopted_users.last_session_month.fillna(0, inplace=True)\n",
        "adopted_users.last_session_year.fillna(0, inplace=True)"
      ],
      "metadata": {
        "id": "vuwwzsemst39"
      },
      "execution_count": 20,
      "outputs": []
    },
    {
      "cell_type": "markdown",
      "source": [
        "Label encoder for the string values"
      ],
      "metadata": {
        "id": "tdsToOF4s0HN"
      }
    },
    {
      "cell_type": "code",
      "source": [
        "from sklearn import preprocessing \n",
        "from sklearn.preprocessing import LabelEncoder\n",
        "le = preprocessing.LabelEncoder()\n",
        "adopted_users['creation_source']=le.fit_transform(adopted_users['creation_source'])"
      ],
      "metadata": {
        "id": "TbxxWDPTs2RF"
      },
      "execution_count": 21,
      "outputs": []
    },
    {
      "cell_type": "markdown",
      "source": [
        "Create binary for the invited users"
      ],
      "metadata": {
        "id": "JhGQrTDLs1su"
      }
    },
    {
      "cell_type": "code",
      "source": [
        "adopted_users['invited'] = np.where(adopted_users['invited_by_user_id'].isnull(), 1, 0)\n",
        "adopted_users.drop('invited_by_user_id', axis=1, inplace=True)\n",
        "#Fill in the missings\n",
        "adopted_users=adopted_users.fillna(0)\n",
        "#Create column labels for output\n",
        "col_names=list(pd.Series(adopted_users.columns)[pd.Series(adopted_users.columns)!='adopted_user'])\n",
        "#Code as arrays\n",
        "X=adopted_users[list(pd.Series(adopted_users.columns)[pd.Series(adopted_users.columns)!='adopted_user'])].values\n",
        "y=adopted_users['adopted_user'].values"
      ],
      "metadata": {
        "id": "IXZxiUyOs4WO"
      },
      "execution_count": 22,
      "outputs": []
    },
    {
      "cell_type": "markdown",
      "source": [
        "Train/Test Split"
      ],
      "metadata": {
        "id": "hipRK457s5mF"
      }
    },
    {
      "cell_type": "code",
      "source": [
        "from sklearn.model_selection import train_test_split\n",
        "X_train, X_test, y_train, y_test = train_test_split(X,y,test_size = 0.3,random_state=3)\n",
        "print('Train size:',(len(X_train)/len(X))*100)\n",
        "print('Train observations:',(len(X_train)))\n",
        "print('Test size:',(len(X_test)/len(X))*100)\n",
        "print('Test observations:',(len(X_test)))"
      ],
      "metadata": {
        "colab": {
          "base_uri": "https://localhost:8080/"
        },
        "id": "9TBK3qt2s6cs",
        "outputId": "b99ba88e-190b-4170-d853-0b7d4556aa3e"
      },
      "execution_count": 23,
      "outputs": [
        {
          "output_type": "stream",
          "name": "stdout",
          "text": [
            "Train size: 69.99962102191441\n",
            "Train observations: 147765\n",
            "Test size: 30.00037897808559\n",
            "Test observations: 63329\n"
          ]
        }
      ]
    },
    {
      "cell_type": "markdown",
      "source": [
        "Train size: 69.99962102191441\n",
        "Train observations: 147765\n",
        "Test size: 30.00037897808559\n",
        "Test observations: 63329"
      ],
      "metadata": {
        "id": "H4f0o6zls8N9"
      }
    },
    {
      "cell_type": "markdown",
      "source": [
        "# Fit Random Forest Model"
      ],
      "metadata": {
        "id": "YLsLxqaGtCJT"
      }
    },
    {
      "cell_type": "code",
      "source": [
        "from sklearn.decomposition import PCA\n",
        "from sklearn.metrics import accuracy_score, roc_auc_score, make_scorer\n",
        "from sklearn.model_selection import train_test_split, StratifiedKFold, GridSearchCV, cross_val_score\n",
        "from sklearn.ensemble import RandomForestClassifier\n",
        "\n",
        "clf = RandomForestClassifier(n_estimators=20,random_state=0,criterion='gini', class_weight='balanced')\n",
        "\n",
        "clf.fit(X_train, y_train.ravel())\n",
        "Accuracy=clf.score(X_train, y_train.ravel())\n",
        "print('Accuracy:',Accuracy,'\\n')\n",
        "\n",
        "importFeature = clf.feature_importances_\n",
        "feature_importances=pd.DataFrame([importFeature])\n",
        "\n",
        "std = np.std([tree.feature_importances_ for tree in clf.estimators_],axis=0)\n",
        "indices = np.argsort(importFeature)[::-1]\n",
        "\n",
        "# Print the feature ranking\n",
        "print(\"Feature ranking:\")\n",
        "\n",
        "# Plot the feature importances of the forest\n",
        "plt.figure()\n",
        "plt.title(\"Feature importances\")\n",
        "plt.bar(range(X.shape[1]), importFeature[indices],color=\"r\", yerr=std[indices], align=\"center\")\n",
        "plt.xticks(range(X.shape[1]), indices)\n",
        "plt.xlim([-1, X.shape[1]])\n",
        "plt.show()\n",
        "\n",
        "feature_importances=pd.DataFrame(pd.Series(col_names)[indices])\n",
        "feature_importances['importance']=np.sort(importFeature)[::-1]\n",
        "feature_importances.columns=['features','importance']\n",
        "feature_importances"
      ],
      "metadata": {
        "colab": {
          "base_uri": "https://localhost:8080/",
          "height": 713
        },
        "id": "0NsG3O6Ns7ld",
        "outputId": "595c3392-50cb-4538-9f03-e8943746eb48"
      },
      "execution_count": 24,
      "outputs": [
        {
          "output_type": "stream",
          "name": "stdout",
          "text": [
            "Accuracy: 0.9999255574730146 \n",
            "\n",
            "Feature ranking:\n"
          ]
        },
        {
          "output_type": "display_data",
          "data": {
            "text/plain": [
              "<Figure size 432x288 with 1 Axes>"
            ],
            "image/png": "[encoded data removed]"
          },
          "metadata": {
            "needs_background": "light"
          }
        },
        {
          "output_type": "execute_result",
          "data": {
            "text/plain": [
              "                      features  importance\n",
              "3                       org_id    0.293394\n",
              "6                 creation_day    0.204772\n",
              "4                creation_year    0.170147\n",
              "5               creation_month    0.133685\n",
              "8           last_session_month    0.054419\n",
              "0              creation_source    0.038687\n",
              "9             last_session_day    0.036800\n",
              "7            last_session_year    0.030895\n",
              "1     opted_in_to_mailing_list    0.016536\n",
              "2   enabled_for_marketing_drip    0.013290\n",
              "10                     invited    0.007376"
            ],
            "text/html": [
              "\n",
              "  <div id=\"df-158c1ff7-0ce8-4d1a-b303-da595b7aec50\">\n",
              "    <div class=\"colab-df-container\">\n",
              "      <div>\n",
              "<style scoped>\n",
              "    .dataframe tbody tr th:only-of-type {\n",
              "        vertical-align: middle;\n",
              "    }\n",
              "\n",
              "    .dataframe tbody tr th {\n",
              "        vertical-align: top;\n",
              "    }\n",
              "\n",
              "    .dataframe thead th {\n",
              "        text-align: right;\n",
              "    }\n",
              "</style>\n",
              "<table border=\"1\" class=\"dataframe\">\n",
              "  <thead>\n",
              "    <tr style=\"text-align: right;\">\n",
              "      <th></th>\n",
              "      <th>features</th>\n",
              "      <th>importance</th>\n",
              "    </tr>\n",
              "  </thead>\n",
              "  <tbody>\n",
              "    <tr>\n",
              "      <th>3</th>\n",
              "      <td>org_id</td>\n",
              "      <td>0.293394</td>\n",
              "    </tr>\n",
              "    <tr>\n",
              "      <th>6</th>\n",
              "      <td>creation_day</td>\n",
              "      <td>0.204772</td>\n",
              "    </tr>\n",
              "    <tr>\n",
              "      <th>4</th>\n",
              "      <td>creation_year</td>\n",
              "      <td>0.170147</td>\n",
              "    </tr>\n",
              "    <tr>\n",
              "      <th>5</th>\n",
              "      <td>creation_month</td>\n",
              "      <td>0.133685</td>\n",
              "    </tr>\n",
              "    <tr>\n",
              "      <th>8</th>\n",
              "      <td>last_session_month</td>\n",
              "      <td>0.054419</td>\n",
              "    </tr>\n",
              "    <tr>\n",
              "      <th>0</th>\n",
              "      <td>creation_source</td>\n",
              "      <td>0.038687</td>\n",
              "    </tr>\n",
              "    <tr>\n",
              "      <th>9</th>\n",
              "      <td>last_session_day</td>\n",
              "      <td>0.036800</td>\n",
              "    </tr>\n",
              "    <tr>\n",
              "      <th>7</th>\n",
              "      <td>last_session_year</td>\n",
              "      <td>0.030895</td>\n",
              "    </tr>\n",
              "    <tr>\n",
              "      <th>1</th>\n",
              "      <td>opted_in_to_mailing_list</td>\n",
              "      <td>0.016536</td>\n",
              "    </tr>\n",
              "    <tr>\n",
              "      <th>2</th>\n",
              "      <td>enabled_for_marketing_drip</td>\n",
              "      <td>0.013290</td>\n",
              "    </tr>\n",
              "    <tr>\n",
              "      <th>10</th>\n",
              "      <td>invited</td>\n",
              "      <td>0.007376</td>\n",
              "    </tr>\n",
              "  </tbody>\n",
              "</table>\n",
              "</div>\n",
              "      <button class=\"colab-df-convert\" onclick=\"convertToInteractive('df-158c1ff7-0ce8-4d1a-b303-da595b7aec50')\"\n",
              "              title=\"Convert this dataframe to an interactive table.\"\n",
              "              style=\"display:none;\">\n",
              "        \n",
              "  <svg xmlns=\"http://www.w3.org/2000/svg\" height=\"24px\"viewBox=\"0 0 24 24\"\n",
              "       width=\"24px\">\n",
              "    <path d=\"M0 0h24v24H0V0z\" fill=\"none\"/>\n",
              "    <path d=\"M18.56 5.44l.94 2.06.94-2.06 2.06-.94-2.06-.94-.94-2.06-.94 2.06-2.06.94zm-11 1L8.5 8.5l.94-2.06 2.06-.94-2.06-.94L8.5 2.5l-.94 2.06-2.06.94zm10 10l.94 2.06.94-2.06 2.06-.94-2.06-.94-.94-2.06-.94 2.06-2.06.94z\"/><path d=\"M17.41 7.96l-1.37-1.37c-.4-.4-.92-.59-1.43-.59-.52 0-1.04.2-1.43.59L10.3 9.45l-7.72 7.72c-.78.78-.78 2.05 0 2.83L4 21.41c.39.39.9.59 1.41.59.51 0 1.02-.2 1.41-.59l7.78-7.78 2.81-2.81c.8-.78.8-2.07 0-2.86zM5.41 20L4 18.59l7.72-7.72 1.47 1.35L5.41 20z\"/>\n",
              "  </svg>\n",
              "      </button>\n",
              "      \n",
              "  <style>\n",
              "    .colab-df-container {\n",
              "      display:flex;\n",
              "      flex-wrap:wrap;\n",
              "      gap: 12px;\n",
              "    }\n",
              "\n",
              "    .colab-df-convert {\n",
              "      background-color: #E8F0FE;\n",
              "      border: none;\n",
              "      border-radius: 50%;\n",
              "      cursor: pointer;\n",
              "      display: none;\n",
              "      fill: #1967D2;\n",
              "      height: 32px;\n",
              "      padding: 0 0 0 0;\n",
              "      width: 32px;\n",
              "    }\n",
              "\n",
              "    .colab-df-convert:hover {\n",
              "      background-color: #E2EBFA;\n",
              "      box-shadow: 0px 1px 2px rgba(60, 64, 67, 0.3), 0px 1px 3px 1px rgba(60, 64, 67, 0.15);\n",
              "      fill: #174EA6;\n",
              "    }\n",
              "\n",
              "    [theme=dark] .colab-df-convert {\n",
              "      background-color: #3B4455;\n",
              "      fill: #D2E3FC;\n",
              "    }\n",
              "\n",
              "    [theme=dark] .colab-df-convert:hover {\n",
              "      background-color: #434B5C;\n",
              "      box-shadow: 0px 1px 3px 1px rgba(0, 0, 0, 0.15);\n",
              "      filter: drop-shadow(0px 1px 2px rgba(0, 0, 0, 0.3));\n",
              "      fill: #FFFFFF;\n",
              "    }\n",
              "  </style>\n",
              "\n",
              "      <script>\n",
              "        const buttonEl =\n",
              "          document.querySelector('#df-158c1ff7-0ce8-4d1a-b303-da595b7aec50 button.colab-df-convert');\n",
              "        buttonEl.style.display =\n",
              "          google.colab.kernel.accessAllowed ? 'block' : 'none';\n",
              "\n",
              "        async function convertToInteractive(key) {\n",
              "          const element = document.querySelector('#df-158c1ff7-0ce8-4d1a-b303-da595b7aec50');\n",
              "          const dataTable =\n",
              "            await google.colab.kernel.invokeFunction('convertToInteractive',\n",
              "                                                     [key], {});\n",
              "          if (!dataTable) return;\n",
              "\n",
              "          const docLinkHtml = 'Like what you see? Visit the ' +\n",
              "            '<a target=\"_blank\" href=https://colab.research.google.com/notebooks/data_table.ipynb>data table notebook</a>'\n",
              "            + ' to learn more about interactive tables.';\n",
              "          element.innerHTML = '';\n",
              "          dataTable['output_type'] = 'display_data';\n",
              "          await google.colab.output.renderOutput(dataTable, element);\n",
              "          const docLink = document.createElement('div');\n",
              "          docLink.innerHTML = docLinkHtml;\n",
              "          element.appendChild(docLink);\n",
              "        }\n",
              "      </script>\n",
              "    </div>\n",
              "  </div>\n",
              "  "
            ]
          },
          "metadata": {},
          "execution_count": 24
        }
      ]
    },
    {
      "cell_type": "markdown",
      "source": [
        "Accuracy: 0.9999187899705614 "
      ],
      "metadata": {
        "id": "dK_uQSUotFV1"
      }
    },
    {
      "cell_type": "markdown",
      "source": [
        "**Explanation:**\n",
        "\n",
        "Although I got an accuracy of 99% I believe the model is falacious to a degree since it is seperating the data too well, either because the model is overfitting, or because the data is improperly prepared. Regardless of the reasoning we can see the most important features for predicting the 'Adopted Users' in the dataset to be the group of users assigned the organization id (org_id), the time the id was created, and the last login time. This means that users from particular cohorts are more likely to login more frequently than others for som unspecified reason. I think the data needs more features that describe user details in order to get a proper model for describing user adoption."
      ],
      "metadata": {
        "id": "ZSpLkvNctPcF"
      }
    }
  ]
}